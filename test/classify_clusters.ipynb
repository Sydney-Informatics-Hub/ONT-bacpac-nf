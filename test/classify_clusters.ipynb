{
 "cells": [
  {
   "cell_type": "code",
   "execution_count": 105,
   "metadata": {},
   "outputs": [],
   "source": [
    "import glob\n",
    "import re\n",
    "from collections import defaultdict"
   ]
  },
  {
   "cell_type": "code",
   "execution_count": 77,
   "metadata": {},
   "outputs": [
    {
     "data": {
      "text/plain": [
       "['../barcode08_cluster/cluster_001/1_contigs/B_contig_1.fasta',\n",
       " '../barcode08_cluster/cluster_002/1_contigs/A_1.fasta',\n",
       " '../barcode08_cluster/cluster_003/1_contigs/A_2.fasta']"
      ]
     },
     "execution_count": 77,
     "metadata": {},
     "output_type": "execute_result"
    }
   ],
   "source": [
    "input_dir = \"../barcode08_cluster/\" # ensure \"/\" here for parsing out later\n",
    "cluster_fas = f\"{input_dir}cluster_**/1_contigs/**\"\n",
    "cluster_paths = glob.glob(f\"{cluster_fas}\")\n",
    "cluster_paths"
   ]
  },
  {
   "cell_type": "code",
   "execution_count": 86,
   "metadata": {},
   "outputs": [
    {
     "data": {
      "text/plain": [
       "['cluster_001/1_contigs/B_contig_1',\n",
       " 'cluster_002/1_contigs/A_1',\n",
       " 'cluster_003/1_contigs/A_2']"
      ]
     },
     "execution_count": 86,
     "metadata": {},
     "output_type": "execute_result"
    }
   ],
   "source": [
    "s = [ re.sub(input_dir, \"\", path) for path in cluster_paths ]\n",
    "s = [ re.sub(r\"\\.[^.]+$\", \"\", path) for path in s ] # remove file ext\n",
    "s"
   ]
  },
  {
   "cell_type": "code",
   "execution_count": 110,
   "metadata": {},
   "outputs": [],
   "source": [
    "results = defaultdict(list)\n",
    "\n",
    "for path in s: \n",
    "    cluster, assembler = path.split(\"/\")[::2]\n",
    "    assembler = re.sub(\"_.+\", \"\", assembler)\n",
    "    results[cluster].append(assembler)\n"
   ]
  },
  {
   "cell_type": "code",
   "execution_count": 111,
   "metadata": {},
   "outputs": [
    {
     "data": {
      "text/plain": [
       "defaultdict(list,\n",
       "            {'cluster_001': ['B'], 'cluster_002': ['A'], 'cluster_003': ['A']})"
      ]
     },
     "execution_count": 111,
     "metadata": {},
     "output_type": "execute_result"
    }
   ],
   "source": [
    "results"
   ]
  },
  {
   "cell_type": "code",
   "execution_count": 112,
   "metadata": {},
   "outputs": [
    {
     "data": {
      "text/plain": [
       "<dict_keyiterator at 0x73007bfd5f80>"
      ]
     },
     "execution_count": 112,
     "metadata": {},
     "output_type": "execute_result"
    }
   ],
   "source": [
    "iter(results)"
   ]
  },
  {
   "cell_type": "code",
   "execution_count": 133,
   "metadata": {},
   "outputs": [],
   "source": [
    "classification = {}\n",
    "\n",
    "for cluster, assembler in results.items():\n",
    "    a = len(set(assembler))\n",
    "    classification[cluster] = \"discard\"\n",
    "    if a == 2:\n",
    "        classification[cluster] = \"reconcile\"\n"
   ]
  },
  {
   "cell_type": "code",
   "execution_count": 134,
   "metadata": {},
   "outputs": [
    {
     "data": {
      "text/plain": [
       "{'cluster_001': 'discard', 'cluster_002': 'discard', 'cluster_003': 'discard'}"
      ]
     },
     "execution_count": 134,
     "metadata": {},
     "output_type": "execute_result"
    }
   ],
   "source": [
    "classification"
   ]
  }
 ],
 "metadata": {
  "kernelspec": {
   "display_name": "py312",
   "language": "python",
   "name": "python3"
  },
  "language_info": {
   "codemirror_mode": {
    "name": "ipython",
    "version": 3
   },
   "file_extension": ".py",
   "mimetype": "text/x-python",
   "name": "python",
   "nbconvert_exporter": "python",
   "pygments_lexer": "ipython3",
   "version": "3.12.7"
  }
 },
 "nbformat": 4,
 "nbformat_minor": 2
}
